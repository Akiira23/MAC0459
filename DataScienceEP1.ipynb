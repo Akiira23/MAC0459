{
 "cells": [
  {
   "cell_type": "markdown",
   "metadata": {},
   "source": [
    "## Indentification of all the members of the group.\n",
    "Name: Andre Akira Hayashi\n",
    "\n",
    "Name: Marcelo Trylesinski"
   ]
  },
  {
   "cell_type": "markdown",
   "metadata": {},
   "source": [
    "## Name of the dataset\n",
    "Dataset: Wine Quality Data Set "
   ]
  },
  {
   "cell_type": "markdown",
   "metadata": {},
   "source": [
    "## Motivation to choose this dataset\n",
    "Rational for choosing this dataset: Tentar entender quais caracteristicas de um vinho branco ou tinto influenciam na qualidade do mesmo, e comparar os dois tipos de vinho entre si e procurar se existem caracteristicas especificas de cada que influenciam mais para suas qualidades."
   ]
  },
  {
   "cell_type": "markdown",
   "metadata": {},
   "source": [
    "## Abstract\n",
    "Abstract of the dataset (describe the dataset with your own words): Conjunto de dados que de acordo com as caracteristicas de cada vinho determina sua qualidade."
   ]
  },
  {
   "cell_type": "markdown",
   "metadata": {},
   "source": [
    "## Questions to the dataset\n",
    "Question 1: Como o álcool influencia na qualidade de cada vinho?\n",
    "\n",
    "Question 2: Como a acidez influencia na qualidade de cada vinho?\n",
    "\n",
    "Question 3: Como o dioxido sulfurico influencia na qualidade dos vinhos?\n",
    "\n",
    "Question 4: Quais dos dois tipo de vinho tem maior qualidade?\n",
    "\n",
    "Question 5: Qual a diferenca em suas caracteristicas que o faz ser melhor que o outro tipo de vinho?\n",
    "\n",
    "Question 5: A acidez volatil realmente é um defeito grave para um vinho?"
   ]
  },
  {
   "cell_type": "markdown",
   "metadata": {},
   "source": [
    "## EDA\n",
    "Present your EDA strategy:"
   ]
  },
  {
   "cell_type": "markdown",
   "metadata": {},
   "source": [
    "## Some examples of analysis/visualizations:"
   ]
  },
  {
   "cell_type": "markdown",
   "metadata": {},
   "source": [
    "1) Present the mean, variance, min, median and max values for each attribute. If the dataset has too many attibutes, choose the more significant ones. Present your code and some remarks to help the understanding.\n",
    "\n",
    "As colunas representam fixed acidity, volatile acidity, residual sugar, chlorides, free sulfur dioxide, total sulfur dioxide, density, pH, sulphate, alcohol e quality, respectivamente:\n",
    "\n",
    "__MediaTinto__: [ 8.31963727  0.52782051  0.27097561  2.5388055   0.08746654 15.87492183\n",
    " 46.46779237  0.99674668  3.3111132   0.65814884 10.42298311  5.63602251]\n",
    " \n",
    "__VarianciaTinto__: [3.02952057e+00 3.20423261e-02 3.79237511e-02 1.98665392e+00\n",
    " 2.21375732e-03 1.09346457e+02 1.08142564e+03 3.55980179e-06\n",
    " 2.38202742e-02 2.87146470e-02 1.13493717e+00 6.51760540e-01]\n",
    " \n",
    "__ValorMinimoTinto__: [4.6     0.12    0.      0.9     0.012   1.      6.      0.99007 2.74\n",
    " 0.33    8.4     3.     ]\n",
    " \n",
    "__MedianaTinto__: [ 7.9      0.52     0.26     2.2      0.079   14.      38.       0.99675\n",
    "  3.31     0.62    10.2      6.     ]\n",
    "  \n",
    "__ValorMaximoTinto__: [ 15.9       1.58      1.       15.5       0.611    72.      289.\n",
    "   1.00369   4.01      2.       14.9       8.     ]\n",
    "   \n",
    " ***  \n",
    "   \n",
    "__MediaBranco__: [ 8.32021277  0.52771277  0.27114518  2.53920526  0.08747372 15.87797247\n",
    " 46.47559449  0.99674602  3.31098874  0.65821026 10.42362328  5.63642053]\n",
    " \n",
    "__VarianciaBranco__: [3.03088681e+00 3.20438142e-02 3.79015046e-02 1.98764161e+00\n",
    " 2.21506032e-03 1.09400003e+02 1.08200504e+03 3.56133472e-06\n",
    " 2.38104116e-02 2.87265841e-02 1.13499211e+00 6.51915097e-01]\n",
    " \n",
    "__ValorMinimoBranco__: [4.6     0.12    0.      0.9     0.012   1.      6.      0.99007 2.74\n",
    " 0.33    8.4     3.     ]\n",
    " \n",
    "__MedianaBranco__: [ 7.9      0.52     0.26     2.2      0.079   14.      38.       0.99675\n",
    "  3.31     0.62    10.2      6.     ]\n",
    "  \n",
    "__ValorMaximoBranco__: [ 15.9       1.58      1.       15.5       0.611    72.      289.\n",
    "   1.00369   4.01      2.       14.9       8.     ]"
   ]
  },
  {
   "cell_type": "markdown",
   "metadata": {},
   "source": [
    "2) How well distributed are the dataset in relation the each attribute. How can you visually check that? Hint: plot a histogram\n",
    "\n",
    "Para os dois vinhos os numeros sao praticamente iguais, nao ha uma diferenca grande um nenhuma das caracteristicas.<br>\n",
    "- __fixed acidity__ esta mais concentrada nos valores de 6.5 ate 8.<br>\n",
    "- __volatile acidity__ esta mais concentrada nos valores de 0.4 ate 0.6.<br>\n",
    "- __citric acid__ esta bem concentrada no valor 0.<br>\n",
    "- __residual sugar__ esta bem concentrada no valor 2.5.<br>\n",
    "- __chlorides__ esta bem concentrada no valor 0.1.<br>\n",
    "- __free sulfur dioxide__ esta bem concentrada no valor 10.<br>\n",
    "- __total sulfur dioxide__ esta bem concentrada nos valores entre 50 e 60.<br>\n",
    "- __density__ esta bem concentrada nos valores entre 0.997 e 0.998.<br>\n",
    "- __pH__ esta bem concentrada no valor 3.26.<br>\n",
    "- __sulphates__ esta bem concentrada no valor 0.75.<br>\n",
    "- __alcohol__ esta bem concentrada no valor 9.<br>\n",
    "- __quality__ esta bem concentrada nos valores 5 e 6.<br>\n"
   ]
  },
  {
   "cell_type": "markdown",
   "metadata": {},
   "source": [
    "3) Is there any attribute that can be used to better interpret the dataset? Show this in a graphic where you used this attribute to group (groupby) the data."
   ]
  },
  {
   "cell_type": "markdown",
   "metadata": {},
   "source": [
    "4) Is there any outlier's pattern? "
   ]
  },
  {
   "cell_type": "markdown",
   "metadata": {},
   "source": [
    "5) Make your own remarks about the dataset. Try to use one or more graphics to justify your remarks."
   ]
  },
  {
   "cell_type": "markdown",
   "metadata": {},
   "source": [
    "6) Is there any symmetry that can be stressed?"
   ]
  },
  {
   "cell_type": "markdown",
   "metadata": {},
   "source": [
    "7) How important was EDA to help you understand the dataset?"
   ]
  }
 ],
 "metadata": {
  "kernelspec": {
   "display_name": "Python 3",
   "language": "python",
   "name": "python3"
  },
  "language_info": {
   "codemirror_mode": {
    "name": "ipython",
    "version": 3
   },
   "file_extension": ".py",
   "mimetype": "text/x-python",
   "name": "python",
   "nbconvert_exporter": "python",
   "pygments_lexer": "ipython3",
   "version": "3.6.5"
  }
 },
 "nbformat": 4,
 "nbformat_minor": 2
}
